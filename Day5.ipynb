{
 "cells": [
  {
   "cell_type": "code",
   "execution_count": 2,
   "metadata": {},
   "outputs": [
    {
     "name": "stdout",
     "output_type": "stream",
     "text": [
      "[1, 1, 1, 2, 2, 3, 4, 4, 10, 56, 56, 0, 0, 0, 0, 0]\n"
     ]
    }
   ],
   "source": [
    "list=[0,1,2,10,4,1,0,56,2,0,1,3,0,56,0,4]\n",
    "list.sort()\n",
    "n=len(list)\n",
    "count=0\n",
    "for i in range(n):\n",
    "    if list[i]!=0:\n",
    "        list[count]=list[i]\n",
    "        count+=1\n",
    "while count<n:\n",
    "    list[count]=0\n",
    "    count+=1\n",
    "print(list)"
   ]
  },
  {
   "cell_type": "code",
   "execution_count": 9,
   "metadata": {},
   "outputs": [
    {
     "name": "stdout",
     "output_type": "stream",
     "text": [
      "[5, 10, 15, 20, 25, 35, 40, 45, 60, 60, 70, 80]\n"
     ]
    }
   ],
   "source": [
    "list1=[10,20,40,60,70,80]\n",
    "list2=[5,15,25,35,45,60] \n",
    "list3=[]\n",
    "i=0\n",
    "j=0\n",
    "while i<len(list1) and j<len(list2):\n",
    "    if list1[i]<=list2[j]:\n",
    "        list3.append(list1[i])\n",
    "        i+=1\n",
    "    else:\n",
    "        list3.append(list2[j])\n",
    "        j+=1\n",
    "remained=list1[i:]+list2[j:]\n",
    "list3=list3+remained\n",
    "print(list3)"
   ]
  }
 ],
 "metadata": {
  "kernelspec": {
   "display_name": "Python 3",
   "language": "python",
   "name": "python3"
  },
  "language_info": {
   "codemirror_mode": {
    "name": "ipython",
    "version": 3
   },
   "file_extension": ".py",
   "mimetype": "text/x-python",
   "name": "python",
   "nbconvert_exporter": "python",
   "pygments_lexer": "ipython3",
   "version": "3.7.6"
  }
 },
 "nbformat": 4,
 "nbformat_minor": 4
}
