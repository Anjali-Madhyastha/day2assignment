{
 "cells": [
  {
   "cell_type": "code",
   "execution_count": 1,
   "metadata": {},
   "outputs": [
    {
     "name": "stdout",
     "output_type": "stream",
     "text": [
      "5\n",
      "14\n",
      "24\n"
     ]
    }
   ],
   "source": [
    "a=\"what we think we become;we are python programmer\"\n",
    "b=a.count(\"we\")\n",
    "n=len(a)\n",
    "c=0\n",
    "for i in range(0,b):\n",
    "    c=a.find(\"we\",c,n)\n",
    "    print(c)\n",
    "    c=c+1"
   ]
  },
  {
   "cell_type": "code",
   "execution_count": 4,
   "metadata": {},
   "outputs": [
    {
     "name": "stdout",
     "output_type": "stream",
     "text": [
      "AbCd\n",
      "string is mixed case\n"
     ]
    }
   ],
   "source": [
    "str=input()\n",
    "if str.isalpha():\n",
    "    if str.islower():\n",
    "        print(\"string is in lower case\")\n",
    "    elif str.isupper():\n",
    "        print(\"string is in upper case\")\n",
    "    else:\n",
    "        print(\"string is mixed case\")\n",
    "else:\n",
    "    print(\"string also contains number\")"
   ]
  },
  {
   "cell_type": "code",
   "execution_count": 5,
   "metadata": {},
   "outputs": [
    {
     "name": "stdout",
     "output_type": "stream",
     "text": [
      "abcd\n",
      "string is in lower case\n"
     ]
    }
   ],
   "source": [
    "str=input()\n",
    "if str.isalpha():\n",
    "    if str.islower():\n",
    "        print(\"string is in lower case\")\n",
    "    elif str.isupper():\n",
    "        print(\"string is in upper case\")\n",
    "    else:\n",
    "        print(\"string is mixed case\")\n",
    "else:\n",
    "    print(\"string also contains number\")"
   ]
  },
  {
   "cell_type": "code",
   "execution_count": 6,
   "metadata": {},
   "outputs": [
    {
     "name": "stdout",
     "output_type": "stream",
     "text": [
      "ABCD\n",
      "string is in upper case\n"
     ]
    }
   ],
   "source": [
    "str=input()\n",
    "if str.isalpha():\n",
    "    if str.islower():\n",
    "        print(\"string is in lower case\")\n",
    "    elif str.isupper():\n",
    "        print(\"string is in upper case\")\n",
    "    else:\n",
    "        print(\"string is mixed case\")\n",
    "else:\n",
    "    print(\"string also contains number\")"
   ]
  },
  {
   "cell_type": "code",
   "execution_count": 7,
   "metadata": {},
   "outputs": [
    {
     "name": "stdout",
     "output_type": "stream",
     "text": [
      "AbC34\n",
      "string also contains number\n"
     ]
    }
   ],
   "source": [
    "str=input()\n",
    "if str.isalpha():\n",
    "    if str.islower():\n",
    "        print(\"string is in lower case\")\n",
    "    elif str.isupper():\n",
    "        print(\"string is in upper case\")\n",
    "    else:\n",
    "        print(\"string is mixed case\")\n",
    "else:\n",
    "    print(\"string also contains number\")"
   ]
  }
 ],
 "metadata": {
  "kernelspec": {
   "display_name": "Python 3",
   "language": "python",
   "name": "python3"
  },
  "language_info": {
   "codemirror_mode": {
    "name": "ipython",
    "version": 3
   },
   "file_extension": ".py",
   "mimetype": "text/x-python",
   "name": "python",
   "nbconvert_exporter": "python",
   "pygments_lexer": "ipython3",
   "version": "3.7.6"
  }
 },
 "nbformat": 4,
 "nbformat_minor": 4
}
