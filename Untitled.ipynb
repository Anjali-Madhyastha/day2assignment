{
 "cells": [
  {
   "cell_type": "code",
   "execution_count": 4,
   "metadata": {},
   "outputs": [
    {
     "name": "stdout",
     "output_type": "stream",
     "text": [
      "hello       python\n"
     ]
    }
   ],
   "source": [
    "print('hello \\\n",
    "      python') #\\n for new line, \\t for tab"
   ]
  },
  {
   "cell_type": "code",
   "execution_count": 5,
   "metadata": {},
   "outputs": [
    {
     "name": "stdout",
     "output_type": "stream",
     "text": [
      "the name of person is xyz marks is 90.000000 and age if 21\n"
     ]
    }
   ],
   "source": [
    "name=\"xyz\"\n",
    "marks=90\n",
    "age=21\n",
    "print('the name of person is %s marks is %f and age if %d'%(name,marks,age))\n"
   ]
  },
  {
   "cell_type": "raw",
   "metadata": {},
   "source": [
    "a variable is used to assign data to a name\n",
    "it can start with either letter or underscore\n",
    "it cannot use any special character\n",
    "numbers can be used"
   ]
  },
  {
   "cell_type": "raw",
   "metadata": {},
   "source": [
    "arithmatic operation contains to the power, multiplication, division,addition, subtraction,modulus and int division\n",
    "coparison opertor compares the operator and operand and return boolean expression true or false"
   ]
  }
 ],
 "metadata": {
  "kernelspec": {
   "display_name": "Python 3",
   "language": "python",
   "name": "python3"
  },
  "language_info": {
   "codemirror_mode": {
    "name": "ipython",
    "version": 3
   },
   "file_extension": ".py",
   "mimetype": "text/x-python",
   "name": "python",
   "nbconvert_exporter": "python",
   "pygments_lexer": "ipython3",
   "version": "3.7.6"
  }
 },
 "nbformat": 4,
 "nbformat_minor": 4
}
