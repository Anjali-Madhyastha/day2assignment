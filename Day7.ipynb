{
 "cells": [
  {
   "cell_type": "raw",
   "metadata": {},
   "source": [
    "# Use the dictionary, port1 = {21: \"FTP\", 22:\"SSH\", 23: \"telnet\", 80: \"http\"}, and make a new dictionary in which keys become values and values become keys, as shown: Port2 = {“FTP\":21, \"SSH\":22, “telnet\":23,\"http\": 80}"
   ]
  },
  {
   "cell_type": "code",
   "execution_count": 31,
   "metadata": {},
   "outputs": [
    {
     "name": "stdout",
     "output_type": "stream",
     "text": [
      "{'FTP': 21, 'SSH': 22, 'telnet': 23, 'http': 80}\n"
     ]
    }
   ],
   "source": [
    "port1 = {21: \"FTP\", 22:\"SSH\", 23: \"telnet\", 80: \"http\"}\n",
    "port2 = dict([(value, key) for key, value in port1.items()])\n",
    "print(port2)"
   ]
  },
  {
   "cell_type": "raw",
   "metadata": {},
   "source": [
    "Take a list of tuple as shown below.\n",
    "[(1,2), (3,4), (5,6),(4,5)]\n",
    "Make a new list which contains sum of number of tuples. "
   ]
  },
  {
   "cell_type": "code",
   "execution_count": 13,
   "metadata": {},
   "outputs": [
    {
     "name": "stdout",
     "output_type": "stream",
     "text": [
      "[3, 7, 11, 9]\n"
     ]
    }
   ],
   "source": [
    "list1=[(1,2),(3,4),(5,6),(4,5)]\n",
    "list2=[]\n",
    "n=len(list1)\n",
    "c=0\n",
    "for i in range(n):\n",
    "    for j in range(0,1):\n",
    "        c=list1[i][j]+list1[i][j+1]\n",
    "        list2.append(c)\n",
    "print(list2)"
   ]
  },
  {
   "cell_type": "raw",
   "metadata": {},
   "source": [
    "Take a list as shown below \n",
    "[(1,2,3), [1,2], ['a','hit','less']]\n",
    "The List contains tuple and lists. Make the elements of inner lists and tuples to outer list"
   ]
  },
  {
   "cell_type": "code",
   "execution_count": 28,
   "metadata": {},
   "outputs": [
    {
     "name": "stdout",
     "output_type": "stream",
     "text": [
      "[1, 2, 3, 1, 2, 'a', 'hit', 'less']\n"
     ]
    }
   ],
   "source": [
    "l=[(1,2,3), [1,2], ['a','hit','less']]\n",
    "b=[]\n",
    "def flatlist(l): \n",
    "    for i in l: \n",
    "        if type(i) == list : \n",
    "            flatlist(i) \n",
    "        elif type(i)== tuple:\n",
    "            flatlist(i) \n",
    "        else: \n",
    "            b.append(i)\n",
    "    return b\n",
    "c=flatlist(l)\n",
    "print(c)"
   ]
  }
 ],
 "metadata": {
  "kernelspec": {
   "display_name": "Python 3",
   "language": "python",
   "name": "python3"
  },
  "language_info": {
   "codemirror_mode": {
    "name": "ipython",
    "version": 3
   },
   "file_extension": ".py",
   "mimetype": "text/x-python",
   "name": "python",
   "nbconvert_exporter": "python",
   "pygments_lexer": "ipython3",
   "version": "3.7.6"
  }
 },
 "nbformat": 4,
 "nbformat_minor": 4
}
